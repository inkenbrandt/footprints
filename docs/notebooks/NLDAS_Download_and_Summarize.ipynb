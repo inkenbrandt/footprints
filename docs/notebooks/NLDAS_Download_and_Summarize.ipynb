{
 "cells": [
  {
   "cell_type": "code",
   "execution_count": null,
   "id": "653aa78b37452833",
   "metadata": {},
   "outputs": [],
   "source": [
    "# Download NLDAS Data"
   ]
  },
  {
   "cell_type": "code",
   "execution_count": null,
   "id": "5d2f51fac865ad22",
   "metadata": {},
   "outputs": [],
   "source": [
    "\n",
    "\n",
    "import sys\n",
    "import numpy as np\n",
    "import pandas as pd\n",
    "import rasterio\n",
    "import refet\n",
    "import pyproj as proj\n",
    "import xarray\n",
    "import requests\n",
    "import multiprocessing as mp\n",
    "import matplotlib.pyplot as plt\n",
    "import configparser\n",
    "import pathlib"
   ]
  },
  {
   "cell_type": "code",
   "execution_count": null,
   "id": "fbede0dcffafdabd",
   "metadata": {},
   "outputs": [],
   "source": [
    "#sys.path.append(\"//\")\n",
    "sys.path.append(\"../../../Micromet\")\n",
    "import micromet\n",
    "#from micromet.volk import ffp_climatology as ffp\n",
    "#from micromet import AmerifluxDataProcessor"
   ]
  },
  {
   "cell_type": "code",
   "execution_count": null,
   "id": "57c5a8cb143a714f",
   "metadata": {},
   "outputs": [],
   "source": [
    "\n",
    "# load initial flux data\n",
    "#station = 'US-UTW'\n",
    "#config_path = f'../../station_config/{station}.ini'\n",
    "#config = configparser.ConfigParser()\n",
    "#config.read(config_path)\n",
    "\n",
    "spath = \"../../secrets/config.ini\"\n",
    "sconfig = configparser.ConfigParser()\n",
    "sconfig.read(spath)\n",
    "\n",
    "ed_pass = sconfig['NLDAS']['pw']\n",
    "ed_user = sconfig['NLDAS']['user']"
   ]
  },
  {
   "cell_type": "code",
   "execution_count": null,
   "id": "3d400b2cfe9af59f",
   "metadata": {},
   "outputs": [],
   "source": [
    "import datetime\n",
    "\n",
    "#nldas_out_dir = Path('C:/Users/paulinkenbrandt/Documents/GitHub/MicroMet/Notebooks/Footprints')\n",
    "\n",
    "\n",
    "for date in pd.date_range(start='2021-01-01', end='2025-02-01',freq='h'):\n",
    "    hour = date.hour\n",
    "    micromet.download_nldas(date,\n",
    "                           hour,\n",
    "                           ed_user,\n",
    "                           ed_pass,)"
   ]
  },
  {
   "cell_type": "code",
   "execution_count": null,
   "id": "ad1f6bc067b1cc46",
   "metadata": {},
   "outputs": [],
   "source": [
    "micromet.clip_to_utah_merge(file_dir=\"./NLDAS_data/\", years = [2021,2022,2023,2024])\n"
   ]
  },
  {
   "cell_type": "code",
   "execution_count": null,
   "id": "5a2b0929a53d47d2",
   "metadata": {},
   "outputs": [],
   "source": [
    "micromet.calc_hourly_ffp_xr(input_data_dir=\".\",\n",
    "                            years = [2021,2022,2023,2024],\n",
    "                            output_dir=\"./output/\")"
   ]
  },
  {
   "cell_type": "code",
   "execution_count": null,
   "id": "5ee7f5b5e7b1f372",
   "metadata": {},
   "outputs": [],
   "source": [
    "micromet.extract_nldas_xr_to_df([2021,2022,2023,2024], input_path=\"./output\")"
   ]
  },
  {
   "cell_type": "code",
   "execution_count": null,
   "id": "541d8b9726c25e47",
   "metadata": {},
   "outputs": [],
   "source": [
    "output_path = pathlib.Path(\"./output/\")\n",
    "eto_df = pd.read_parquet(output_path / 'nldas_all.parquet')\n",
    "normed_df = micromet.normalize_eto_df(eto_df)\n",
    "normed_df.to_parquet(output_path / 'nldas_all_normed.parquet')"
   ]
  },
  {
   "cell_type": "code",
   "execution_count": null,
   "id": "26833d8c92de997",
   "metadata": {},
   "outputs": [],
   "source": [
    "output_path = pathlib.Path(\"./output/\")\n",
    "\n",
    "gpds = {}\n",
    "\n",
    "for raster in output_path.glob('*weighted.tif'):\n",
    "\n",
    "    date = pd.to_datetime(raster.stem.split('_')[0])\n",
    "    gpds[f\"{date:%Y-%m-%d}\"] = micromet.outline_valid_cells(raster)"
   ]
  },
  {
   "cell_type": "code",
   "execution_count": null,
   "id": "a4d8d44005fe57b2",
   "metadata": {},
   "outputs": [],
   "source": [
    "footprints = pd.concat(gpds)\n",
    "footprints['stationid'] = 'US-UTW'\n",
    "footprints = footprints.reset_index().rename(columns={'level_0':'date'}).drop(['level_1'],axis=1)\n",
    "footprints"
   ]
  },
  {
   "cell_type": "code",
   "execution_count": null,
   "id": "28a74202570e7df7",
   "metadata": {},
   "outputs": [],
   "source": [
    "import configparser\n",
    "config = configparser.ConfigParser()\n",
    "\n",
    "config.read('../../secrets/config.ini')\n",
    "\n",
    "from sqlalchemy import create_engine\n",
    "import urllib.parse\n",
    "host = config['DEFAULT']['ip']\n",
    "pw = config['DEFAULT']['pw']\n",
    "user = config['DEFAULT']['login']\n",
    "\n",
    "encoded_password = urllib.parse.quote_plus(pw)\n",
    "\n",
    "def postconn_et(encoded_password, host='localhost',user=user,port='5432',db='groundwater', schema = 'groundwater'):\n",
    "    connection_text = \"postgresql+psycopg2://{:}:{:}@{:}:{:}/{:}?gssencmode=disable\".format(user,encoded_password,host,port,db)\n",
    "    return create_engine(connection_text, connect_args={'options': '-csearch_path={}'.format(schema)})\n",
    "\n",
    "\n",
    "engine = postconn_et(encoded_password, host=host, user=user)\n",
    "\n"
   ]
  },
  {
   "cell_type": "code",
   "execution_count": null,
   "id": "629582d94385acfb",
   "metadata": {},
   "outputs": [],
   "source": [
    "footprints.to_file(\"daily_footprint_areas.geojson\",driver=\"GeoJSON\")"
   ]
  },
  {
   "cell_type": "code",
   "execution_count": null,
   "id": "e77f2c26da1cedd6",
   "metadata": {},
   "outputs": [],
   "source": [
    "# 3. Export to PostGIS table\n",
    "table_name = \"daily_footprint_areas\"\n",
    "footprints.to_postgis(\n",
    "    name=table_name,\n",
    "    con=engine,\n",
    "    if_exists=\"replace\",   # or \"append\"\n",
    "    index=False,           # do not write pandas index as a column\n",
    "    #geom_col='geometry',     # use a custom geometry column name if desired\n",
    ")\n",
    "\n",
    "print(f\"GeoDataFrame successfully exported to '{table_name}' in database.\")"
   ]
  },
  {
   "cell_type": "code",
   "execution_count": null,
   "id": "7b53ef4757b3bb48",
   "metadata": {},
   "outputs": [],
   "source": []
  }
 ],
 "metadata": {
  "kernelspec": {
   "display_name": "Python 3",
   "language": "python",
   "name": "python3"
  },
  "language_info": {
   "codemirror_mode": {
    "name": "ipython",
    "version": 2
   },
   "file_extension": ".py",
   "mimetype": "text/x-python",
   "name": "python",
   "nbconvert_exporter": "python",
   "pygments_lexer": "ipython2",
   "version": "2.7.6"
  }
 },
 "nbformat": 4,
 "nbformat_minor": 5
}
